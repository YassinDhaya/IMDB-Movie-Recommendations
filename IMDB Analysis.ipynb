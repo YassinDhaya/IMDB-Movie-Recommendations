{
 "cells": [
  {
   "cell_type": "code",
   "execution_count": 1,
   "id": "8d493f0b-1064-4b1f-bca6-b16e614e9596",
   "metadata": {},
   "outputs": [],
   "source": [
    "# making new folder with os\n",
    "import os\n",
    "os.makedirs('Data/',exist_ok=True) "
   ]
  },
  {
   "cell_type": "code",
   "execution_count": 10,
   "id": "0d01d90b-27ed-4f8f-82ea-f6e3a0a9461c",
   "metadata": {},
   "outputs": [
    {
     "data": {
      "text/plain": [
       "['data.tsv',\n",
       " 'IMDB Movie Dataset Info.docx',\n",
       " 'title-akas-us-only.csv',\n",
       " 'title.basics.tsv.gz',\n",
       " 'title.ratings.tsv.gz']"
      ]
     },
     "execution_count": 10,
     "metadata": {},
     "output_type": "execute_result"
    }
   ],
   "source": [
    "# Confirm folder was created and files added successfully\n",
    "os.listdir(\"Data/\")"
   ]
  },
  {
   "cell_type": "code",
   "execution_count": 29,
   "id": "3ce59040-2220-4f7f-8e2b-5b1a259b268d",
   "metadata": {},
   "outputs": [],
   "source": [
    "import pandas as pd\n",
    "import numpy as np"
   ]
  },
  {
   "cell_type": "code",
   "execution_count": 22,
   "id": "8cfbf31d-f433-4817-937c-78bbbe591e77",
   "metadata": {},
   "outputs": [],
   "source": [
    "basics = pd.read_csv('Data/title.basics.tsv.gz', sep='\\t', low_memory=False)"
   ]
  },
  {
   "cell_type": "code",
   "execution_count": 23,
   "id": "9ce86f65-acff-4c2a-9598-82731bcd910c",
   "metadata": {},
   "outputs": [],
   "source": [
    "akas = pd.read_csv('Data/title-akas-us-only.csv', low_memory=False)"
   ]
  },
  {
   "cell_type": "code",
   "execution_count": 24,
   "id": "793c344d-50ed-4ac6-bbb5-08d4a9a59dc3",
   "metadata": {},
   "outputs": [
    {
     "data": {
      "text/html": [
       "<div>\n",
       "<style scoped>\n",
       "    .dataframe tbody tr th:only-of-type {\n",
       "        vertical-align: middle;\n",
       "    }\n",
       "\n",
       "    .dataframe tbody tr th {\n",
       "        vertical-align: top;\n",
       "    }\n",
       "\n",
       "    .dataframe thead th {\n",
       "        text-align: right;\n",
       "    }\n",
       "</style>\n",
       "<table border=\"1\" class=\"dataframe\">\n",
       "  <thead>\n",
       "    <tr style=\"text-align: right;\">\n",
       "      <th></th>\n",
       "      <th>tconst</th>\n",
       "      <th>titleType</th>\n",
       "      <th>primaryTitle</th>\n",
       "      <th>originalTitle</th>\n",
       "      <th>isAdult</th>\n",
       "      <th>startYear</th>\n",
       "      <th>endYear</th>\n",
       "      <th>runtimeMinutes</th>\n",
       "      <th>genres</th>\n",
       "    </tr>\n",
       "  </thead>\n",
       "  <tbody>\n",
       "    <tr>\n",
       "      <th>0</th>\n",
       "      <td>tt0000001</td>\n",
       "      <td>short</td>\n",
       "      <td>Carmencita</td>\n",
       "      <td>Carmencita</td>\n",
       "      <td>0</td>\n",
       "      <td>1894</td>\n",
       "      <td>\\N</td>\n",
       "      <td>1</td>\n",
       "      <td>Documentary,Short</td>\n",
       "    </tr>\n",
       "    <tr>\n",
       "      <th>1</th>\n",
       "      <td>tt0000002</td>\n",
       "      <td>short</td>\n",
       "      <td>Le clown et ses chiens</td>\n",
       "      <td>Le clown et ses chiens</td>\n",
       "      <td>0</td>\n",
       "      <td>1892</td>\n",
       "      <td>\\N</td>\n",
       "      <td>5</td>\n",
       "      <td>Animation,Short</td>\n",
       "    </tr>\n",
       "    <tr>\n",
       "      <th>2</th>\n",
       "      <td>tt0000003</td>\n",
       "      <td>short</td>\n",
       "      <td>Pauvre Pierrot</td>\n",
       "      <td>Pauvre Pierrot</td>\n",
       "      <td>0</td>\n",
       "      <td>1892</td>\n",
       "      <td>\\N</td>\n",
       "      <td>4</td>\n",
       "      <td>Animation,Comedy,Romance</td>\n",
       "    </tr>\n",
       "    <tr>\n",
       "      <th>3</th>\n",
       "      <td>tt0000004</td>\n",
       "      <td>short</td>\n",
       "      <td>Un bon bock</td>\n",
       "      <td>Un bon bock</td>\n",
       "      <td>0</td>\n",
       "      <td>1892</td>\n",
       "      <td>\\N</td>\n",
       "      <td>12</td>\n",
       "      <td>Animation,Short</td>\n",
       "    </tr>\n",
       "    <tr>\n",
       "      <th>4</th>\n",
       "      <td>tt0000005</td>\n",
       "      <td>short</td>\n",
       "      <td>Blacksmith Scene</td>\n",
       "      <td>Blacksmith Scene</td>\n",
       "      <td>0</td>\n",
       "      <td>1893</td>\n",
       "      <td>\\N</td>\n",
       "      <td>1</td>\n",
       "      <td>Comedy,Short</td>\n",
       "    </tr>\n",
       "  </tbody>\n",
       "</table>\n",
       "</div>"
      ],
      "text/plain": [
       "      tconst titleType            primaryTitle           originalTitle  \\\n",
       "0  tt0000001     short              Carmencita              Carmencita   \n",
       "1  tt0000002     short  Le clown et ses chiens  Le clown et ses chiens   \n",
       "2  tt0000003     short          Pauvre Pierrot          Pauvre Pierrot   \n",
       "3  tt0000004     short             Un bon bock             Un bon bock   \n",
       "4  tt0000005     short        Blacksmith Scene        Blacksmith Scene   \n",
       "\n",
       "  isAdult startYear endYear runtimeMinutes                    genres  \n",
       "0       0      1894      \\N              1         Documentary,Short  \n",
       "1       0      1892      \\N              5           Animation,Short  \n",
       "2       0      1892      \\N              4  Animation,Comedy,Romance  \n",
       "3       0      1892      \\N             12           Animation,Short  \n",
       "4       0      1893      \\N              1              Comedy,Short  "
      ]
     },
     "execution_count": 24,
     "metadata": {},
     "output_type": "execute_result"
    }
   ],
   "source": [
    "basics.head()"
   ]
  },
  {
   "cell_type": "code",
   "execution_count": 25,
   "id": "f4b5e5cd-9d82-493f-8d67-3fdc5ac852b5",
   "metadata": {},
   "outputs": [
    {
     "data": {
      "text/html": [
       "<div>\n",
       "<style scoped>\n",
       "    .dataframe tbody tr th:only-of-type {\n",
       "        vertical-align: middle;\n",
       "    }\n",
       "\n",
       "    .dataframe tbody tr th {\n",
       "        vertical-align: top;\n",
       "    }\n",
       "\n",
       "    .dataframe thead th {\n",
       "        text-align: right;\n",
       "    }\n",
       "</style>\n",
       "<table border=\"1\" class=\"dataframe\">\n",
       "  <thead>\n",
       "    <tr style=\"text-align: right;\">\n",
       "      <th></th>\n",
       "      <th>titleId</th>\n",
       "      <th>ordering</th>\n",
       "      <th>title</th>\n",
       "      <th>region</th>\n",
       "      <th>language</th>\n",
       "      <th>types</th>\n",
       "      <th>attributes</th>\n",
       "      <th>isOriginalTitle</th>\n",
       "    </tr>\n",
       "  </thead>\n",
       "  <tbody>\n",
       "    <tr>\n",
       "      <th>0</th>\n",
       "      <td>tt0000001</td>\n",
       "      <td>6</td>\n",
       "      <td>Carmencita</td>\n",
       "      <td>US</td>\n",
       "      <td>\\N</td>\n",
       "      <td>imdbDisplay</td>\n",
       "      <td>\\N</td>\n",
       "      <td>0</td>\n",
       "    </tr>\n",
       "    <tr>\n",
       "      <th>1</th>\n",
       "      <td>tt0000002</td>\n",
       "      <td>7</td>\n",
       "      <td>The Clown and His Dogs</td>\n",
       "      <td>US</td>\n",
       "      <td>\\N</td>\n",
       "      <td>\\N</td>\n",
       "      <td>literal English title</td>\n",
       "      <td>0</td>\n",
       "    </tr>\n",
       "    <tr>\n",
       "      <th>2</th>\n",
       "      <td>tt0000005</td>\n",
       "      <td>10</td>\n",
       "      <td>Blacksmith Scene</td>\n",
       "      <td>US</td>\n",
       "      <td>\\N</td>\n",
       "      <td>imdbDisplay</td>\n",
       "      <td>\\N</td>\n",
       "      <td>0</td>\n",
       "    </tr>\n",
       "    <tr>\n",
       "      <th>3</th>\n",
       "      <td>tt0000005</td>\n",
       "      <td>1</td>\n",
       "      <td>Blacksmithing Scene</td>\n",
       "      <td>US</td>\n",
       "      <td>\\N</td>\n",
       "      <td>alternative</td>\n",
       "      <td>\\N</td>\n",
       "      <td>0</td>\n",
       "    </tr>\n",
       "    <tr>\n",
       "      <th>4</th>\n",
       "      <td>tt0000005</td>\n",
       "      <td>6</td>\n",
       "      <td>Blacksmith Scene #1</td>\n",
       "      <td>US</td>\n",
       "      <td>\\N</td>\n",
       "      <td>alternative</td>\n",
       "      <td>\\N</td>\n",
       "      <td>0</td>\n",
       "    </tr>\n",
       "  </tbody>\n",
       "</table>\n",
       "</div>"
      ],
      "text/plain": [
       "     titleId  ordering                   title region language        types  \\\n",
       "0  tt0000001         6              Carmencita     US       \\N  imdbDisplay   \n",
       "1  tt0000002         7  The Clown and His Dogs     US       \\N           \\N   \n",
       "2  tt0000005        10        Blacksmith Scene     US       \\N  imdbDisplay   \n",
       "3  tt0000005         1     Blacksmithing Scene     US       \\N  alternative   \n",
       "4  tt0000005         6     Blacksmith Scene #1     US       \\N  alternative   \n",
       "\n",
       "              attributes isOriginalTitle  \n",
       "0                     \\N               0  \n",
       "1  literal English title               0  \n",
       "2                     \\N               0  \n",
       "3                     \\N               0  \n",
       "4                     \\N               0  "
      ]
     },
     "execution_count": 25,
     "metadata": {},
     "output_type": "execute_result"
    }
   ],
   "source": [
    "akas.head()"
   ]
  },
  {
   "cell_type": "code",
   "execution_count": 26,
   "id": "2164ac4c-4a7f-4732-86d3-3222e9aa84b9",
   "metadata": {},
   "outputs": [
    {
     "data": {
      "text/plain": [
       "array(['US'], dtype=object)"
      ]
     },
     "execution_count": 26,
     "metadata": {},
     "output_type": "execute_result"
    }
   ],
   "source": [
    "akas['region'].unique()"
   ]
  },
  {
   "cell_type": "code",
   "execution_count": 27,
   "id": "d3aed2fd-f0ac-44b3-8414-fb9fb26b02e4",
   "metadata": {},
   "outputs": [
    {
     "data": {
      "text/html": [
       "<div>\n",
       "<style scoped>\n",
       "    .dataframe tbody tr th:only-of-type {\n",
       "        vertical-align: middle;\n",
       "    }\n",
       "\n",
       "    .dataframe tbody tr th {\n",
       "        vertical-align: top;\n",
       "    }\n",
       "\n",
       "    .dataframe thead th {\n",
       "        text-align: right;\n",
       "    }\n",
       "</style>\n",
       "<table border=\"1\" class=\"dataframe\">\n",
       "  <thead>\n",
       "    <tr style=\"text-align: right;\">\n",
       "      <th></th>\n",
       "      <th>tconst</th>\n",
       "      <th>titleType</th>\n",
       "      <th>primaryTitle</th>\n",
       "      <th>originalTitle</th>\n",
       "      <th>isAdult</th>\n",
       "      <th>startYear</th>\n",
       "      <th>endYear</th>\n",
       "      <th>runtimeMinutes</th>\n",
       "      <th>genres</th>\n",
       "    </tr>\n",
       "  </thead>\n",
       "  <tbody>\n",
       "    <tr>\n",
       "      <th>0</th>\n",
       "      <td>tt0000001</td>\n",
       "      <td>short</td>\n",
       "      <td>Carmencita</td>\n",
       "      <td>Carmencita</td>\n",
       "      <td>0</td>\n",
       "      <td>1894</td>\n",
       "      <td>\\N</td>\n",
       "      <td>1</td>\n",
       "      <td>Documentary,Short</td>\n",
       "    </tr>\n",
       "    <tr>\n",
       "      <th>1</th>\n",
       "      <td>tt0000002</td>\n",
       "      <td>short</td>\n",
       "      <td>Le clown et ses chiens</td>\n",
       "      <td>Le clown et ses chiens</td>\n",
       "      <td>0</td>\n",
       "      <td>1892</td>\n",
       "      <td>\\N</td>\n",
       "      <td>5</td>\n",
       "      <td>Animation,Short</td>\n",
       "    </tr>\n",
       "    <tr>\n",
       "      <th>4</th>\n",
       "      <td>tt0000005</td>\n",
       "      <td>short</td>\n",
       "      <td>Blacksmith Scene</td>\n",
       "      <td>Blacksmith Scene</td>\n",
       "      <td>0</td>\n",
       "      <td>1893</td>\n",
       "      <td>\\N</td>\n",
       "      <td>1</td>\n",
       "      <td>Comedy,Short</td>\n",
       "    </tr>\n",
       "    <tr>\n",
       "      <th>5</th>\n",
       "      <td>tt0000006</td>\n",
       "      <td>short</td>\n",
       "      <td>Chinese Opium Den</td>\n",
       "      <td>Chinese Opium Den</td>\n",
       "      <td>0</td>\n",
       "      <td>1894</td>\n",
       "      <td>\\N</td>\n",
       "      <td>1</td>\n",
       "      <td>Short</td>\n",
       "    </tr>\n",
       "    <tr>\n",
       "      <th>6</th>\n",
       "      <td>tt0000007</td>\n",
       "      <td>short</td>\n",
       "      <td>Corbett and Courtney Before the Kinetograph</td>\n",
       "      <td>Corbett and Courtney Before the Kinetograph</td>\n",
       "      <td>0</td>\n",
       "      <td>1894</td>\n",
       "      <td>\\N</td>\n",
       "      <td>1</td>\n",
       "      <td>Short,Sport</td>\n",
       "    </tr>\n",
       "    <tr>\n",
       "      <th>...</th>\n",
       "      <td>...</td>\n",
       "      <td>...</td>\n",
       "      <td>...</td>\n",
       "      <td>...</td>\n",
       "      <td>...</td>\n",
       "      <td>...</td>\n",
       "      <td>...</td>\n",
       "      <td>...</td>\n",
       "      <td>...</td>\n",
       "    </tr>\n",
       "    <tr>\n",
       "      <th>10016872</th>\n",
       "      <td>tt9916560</td>\n",
       "      <td>tvMovie</td>\n",
       "      <td>March of Dimes Presents: Once Upon a Dime</td>\n",
       "      <td>March of Dimes Presents: Once Upon a Dime</td>\n",
       "      <td>0</td>\n",
       "      <td>1963</td>\n",
       "      <td>\\N</td>\n",
       "      <td>58</td>\n",
       "      <td>Family</td>\n",
       "    </tr>\n",
       "    <tr>\n",
       "      <th>10016901</th>\n",
       "      <td>tt9916620</td>\n",
       "      <td>movie</td>\n",
       "      <td>The Copeland Case</td>\n",
       "      <td>The Copeland Case</td>\n",
       "      <td>0</td>\n",
       "      <td>\\N</td>\n",
       "      <td>\\N</td>\n",
       "      <td>\\N</td>\n",
       "      <td>Drama</td>\n",
       "    </tr>\n",
       "    <tr>\n",
       "      <th>10016939</th>\n",
       "      <td>tt9916702</td>\n",
       "      <td>short</td>\n",
       "      <td>Loving London: The Playground</td>\n",
       "      <td>Loving London: The Playground</td>\n",
       "      <td>0</td>\n",
       "      <td>\\N</td>\n",
       "      <td>\\N</td>\n",
       "      <td>\\N</td>\n",
       "      <td>Drama,Short</td>\n",
       "    </tr>\n",
       "    <tr>\n",
       "      <th>10016962</th>\n",
       "      <td>tt9916756</td>\n",
       "      <td>short</td>\n",
       "      <td>Pretty Pretty Black Girl</td>\n",
       "      <td>Pretty Pretty Black Girl</td>\n",
       "      <td>0</td>\n",
       "      <td>2019</td>\n",
       "      <td>\\N</td>\n",
       "      <td>\\N</td>\n",
       "      <td>Short</td>\n",
       "    </tr>\n",
       "    <tr>\n",
       "      <th>10016966</th>\n",
       "      <td>tt9916764</td>\n",
       "      <td>short</td>\n",
       "      <td>38</td>\n",
       "      <td>38</td>\n",
       "      <td>0</td>\n",
       "      <td>2018</td>\n",
       "      <td>\\N</td>\n",
       "      <td>\\N</td>\n",
       "      <td>Short</td>\n",
       "    </tr>\n",
       "  </tbody>\n",
       "</table>\n",
       "<p>1365643 rows × 9 columns</p>\n",
       "</div>"
      ],
      "text/plain": [
       "             tconst titleType                                 primaryTitle  \\\n",
       "0         tt0000001     short                                   Carmencita   \n",
       "1         tt0000002     short                       Le clown et ses chiens   \n",
       "4         tt0000005     short                             Blacksmith Scene   \n",
       "5         tt0000006     short                            Chinese Opium Den   \n",
       "6         tt0000007     short  Corbett and Courtney Before the Kinetograph   \n",
       "...             ...       ...                                          ...   \n",
       "10016872  tt9916560   tvMovie    March of Dimes Presents: Once Upon a Dime   \n",
       "10016901  tt9916620     movie                            The Copeland Case   \n",
       "10016939  tt9916702     short                Loving London: The Playground   \n",
       "10016962  tt9916756     short                     Pretty Pretty Black Girl   \n",
       "10016966  tt9916764     short                                           38   \n",
       "\n",
       "                                        originalTitle isAdult startYear  \\\n",
       "0                                          Carmencita       0      1894   \n",
       "1                              Le clown et ses chiens       0      1892   \n",
       "4                                    Blacksmith Scene       0      1893   \n",
       "5                                   Chinese Opium Den       0      1894   \n",
       "6         Corbett and Courtney Before the Kinetograph       0      1894   \n",
       "...                                               ...     ...       ...   \n",
       "10016872    March of Dimes Presents: Once Upon a Dime       0      1963   \n",
       "10016901                            The Copeland Case       0        \\N   \n",
       "10016939                Loving London: The Playground       0        \\N   \n",
       "10016962                     Pretty Pretty Black Girl       0      2019   \n",
       "10016966                                           38       0      2018   \n",
       "\n",
       "         endYear runtimeMinutes             genres  \n",
       "0             \\N              1  Documentary,Short  \n",
       "1             \\N              5    Animation,Short  \n",
       "4             \\N              1       Comedy,Short  \n",
       "5             \\N              1              Short  \n",
       "6             \\N              1        Short,Sport  \n",
       "...          ...            ...                ...  \n",
       "10016872      \\N             58             Family  \n",
       "10016901      \\N             \\N              Drama  \n",
       "10016939      \\N             \\N        Drama,Short  \n",
       "10016962      \\N             \\N              Short  \n",
       "10016966      \\N             \\N              Short  \n",
       "\n",
       "[1365643 rows x 9 columns]"
      ]
     },
     "execution_count": 27,
     "metadata": {},
     "output_type": "execute_result"
    }
   ],
   "source": [
    "# Filter the basics table down to only include the US by using the filter akas dataframe\n",
    "filter_us_titles = basics['tconst'].isin(akas['titleId'])\n",
    "basics = basics[filter_us_titles]\n",
    "basics"
   ]
  },
  {
   "cell_type": "code",
   "execution_count": 150,
   "id": "4e0cf7d4-b5e3-478b-91f8-fdbce21a18e5",
   "metadata": {},
   "outputs": [],
   "source": [
    "# Convert placeholder \"\\N\" values back to true null values\n",
    "df = basics.replace({'\\\\N':np.nan})"
   ]
  },
  {
   "cell_type": "code",
   "execution_count": 151,
   "id": "784f14ec-dcaf-429d-bede-e1fb1677208e",
   "metadata": {},
   "outputs": [],
   "source": [
    "# Dropping Null values from runtimeMinutes and genres columns\n",
    "df = df.dropna(subset=['runtimeMinutes','genres'])"
   ]
  },
  {
   "cell_type": "code",
   "execution_count": 152,
   "id": "43119ab4-82a7-4033-a804-10c0af20697e",
   "metadata": {},
   "outputs": [],
   "source": [
    "# Create a filter for titleType==Movie\n",
    "filter_movie = df['titleType']=='movie'\n",
    "df = df[filter_movie]"
   ]
  },
  {
   "cell_type": "code",
   "execution_count": 153,
   "id": "d0b61e2d-f97e-49dc-8197-9edccfc2908f",
   "metadata": {},
   "outputs": [
    {
     "name": "stdout",
     "output_type": "stream",
     "text": [
      "<class 'pandas.core.frame.DataFrame'>\n",
      "Int64Index: 203476 entries, 8 to 10016777\n",
      "Data columns (total 9 columns):\n",
      " #   Column          Non-Null Count   Dtype \n",
      "---  ------          --------------   ----- \n",
      " 0   tconst          203476 non-null  object\n",
      " 1   titleType       203476 non-null  object\n",
      " 2   primaryTitle    203476 non-null  object\n",
      " 3   originalTitle   203476 non-null  object\n",
      " 4   isAdult         203476 non-null  object\n",
      " 5   startYear       199907 non-null  object\n",
      " 6   endYear         0 non-null       object\n",
      " 7   runtimeMinutes  203476 non-null  object\n",
      " 8   genres          203476 non-null  object\n",
      "dtypes: object(9)\n",
      "memory usage: 15.5+ MB\n"
     ]
    }
   ],
   "source": [
    "df.info()"
   ]
  },
  {
   "cell_type": "code",
   "execution_count": 154,
   "id": "a9fe652d-e7d9-46fd-9404-18e27b8c88c0",
   "metadata": {},
   "outputs": [
    {
     "data": {
      "text/plain": [
       "movie    203476\n",
       "Name: titleType, dtype: int64"
      ]
     },
     "execution_count": 154,
     "metadata": {},
     "output_type": "execute_result"
    }
   ],
   "source": [
    "df['titleType'].value_counts()"
   ]
  },
  {
   "cell_type": "code",
   "execution_count": 155,
   "id": "ed89257b-f67b-4d4d-8cbf-3848a4505368",
   "metadata": {},
   "outputs": [],
   "source": [
    "# convert startYear to float\n",
    "df['startYear'] = df['startYear'].astype(float)"
   ]
  },
  {
   "cell_type": "code",
   "execution_count": 156,
   "id": "5a15ce12-d7c3-4108-b330-91a316bec11e",
   "metadata": {},
   "outputs": [
    {
     "data": {
      "text/plain": [
       "dtype('float64')"
      ]
     },
     "execution_count": 156,
     "metadata": {},
     "output_type": "execute_result"
    }
   ],
   "source": [
    "df['startYear'].dtype"
   ]
  },
  {
   "cell_type": "code",
   "execution_count": 157,
   "id": "1022497f-2077-4425-aa76-d7839f2c33c2",
   "metadata": {},
   "outputs": [],
   "source": [
    "# Filter to keep movies with startYears that are >=2000 and <=2022\n",
    "filter_startYear = (df['startYear'] >= 2000) & (df['startYear'] <= 2022)\n",
    "df = df[filter_startYear]"
   ]
  },
  {
   "cell_type": "code",
   "execution_count": 158,
   "id": "7f3fb542-1660-4077-b5d8-ef3dfe124519",
   "metadata": {},
   "outputs": [],
   "source": [
    "# Eliminate movies that include \"Documentary\" in genre\n",
    "filter_documentaries = df['genres'].str.contains('Documentary')\n",
    "# Exclude movies in the documentary category.\n",
    "df = df[~filter_documentaries]"
   ]
  },
  {
   "cell_type": "code",
   "execution_count": 159,
   "id": "c4b690d0-c4e2-4f62-b891-95b4d7e41c03",
   "metadata": {},
   "outputs": [
    {
     "name": "stdout",
     "output_type": "stream",
     "text": [
      "<class 'pandas.core.frame.DataFrame'>\n",
      "Int64Index: 86979 entries, 34802 to 10016777\n",
      "Data columns (total 9 columns):\n",
      " #   Column          Non-Null Count  Dtype  \n",
      "---  ------          --------------  -----  \n",
      " 0   tconst          86979 non-null  object \n",
      " 1   titleType       86979 non-null  object \n",
      " 2   primaryTitle    86979 non-null  object \n",
      " 3   originalTitle   86979 non-null  object \n",
      " 4   isAdult         86979 non-null  object \n",
      " 5   startYear       86979 non-null  float64\n",
      " 6   endYear         0 non-null      object \n",
      " 7   runtimeMinutes  86979 non-null  object \n",
      " 8   genres          86979 non-null  object \n",
      "dtypes: float64(1), object(8)\n",
      "memory usage: 6.6+ MB\n"
     ]
    }
   ],
   "source": [
    "df.info()"
   ]
  },
  {
   "cell_type": "code",
   "execution_count": 169,
   "id": "8a8775b1-3702-46c2-b1d3-76b2429e40cb",
   "metadata": {},
   "outputs": [],
   "source": [
    "# Save file path to folder with new file name at the end\n",
    "fname_out = \"Data/filtered_data.csv\"\n",
    "df.to_csv(fname_out, index=False)"
   ]
  },
  {
   "cell_type": "code",
   "execution_count": 161,
   "id": "0c07f22e-c4b0-41b1-b97b-6d955af40808",
   "metadata": {},
   "outputs": [],
   "source": [
    "# Load the title ratings file\n",
    "ratings = pd.read_csv('Data/title.ratings.tsv.gz', sep='\\t', low_memory=False)"
   ]
  },
  {
   "cell_type": "code",
   "execution_count": 163,
   "id": "cf385589-f982-461e-bd5d-10a846125f8f",
   "metadata": {},
   "outputs": [
    {
     "name": "stdout",
     "output_type": "stream",
     "text": [
      "<class 'pandas.core.frame.DataFrame'>\n",
      "RangeIndex: 1331492 entries, 0 to 1331491\n",
      "Data columns (total 3 columns):\n",
      " #   Column         Non-Null Count    Dtype  \n",
      "---  ------         --------------    -----  \n",
      " 0   tconst         1331492 non-null  object \n",
      " 1   averageRating  1331492 non-null  float64\n",
      " 2   numVotes       1331492 non-null  int64  \n",
      "dtypes: float64(1), int64(1), object(1)\n",
      "memory usage: 30.5+ MB\n"
     ]
    }
   ],
   "source": [
    "ratings.info()"
   ]
  },
  {
   "cell_type": "code",
   "execution_count": 164,
   "id": "e553b385-3eac-4160-902d-d74ec6b3b9b4",
   "metadata": {},
   "outputs": [
    {
     "data": {
      "text/html": [
       "<div>\n",
       "<style scoped>\n",
       "    .dataframe tbody tr th:only-of-type {\n",
       "        vertical-align: middle;\n",
       "    }\n",
       "\n",
       "    .dataframe tbody tr th {\n",
       "        vertical-align: top;\n",
       "    }\n",
       "\n",
       "    .dataframe thead th {\n",
       "        text-align: right;\n",
       "    }\n",
       "</style>\n",
       "<table border=\"1\" class=\"dataframe\">\n",
       "  <thead>\n",
       "    <tr style=\"text-align: right;\">\n",
       "      <th></th>\n",
       "      <th>tconst</th>\n",
       "      <th>averageRating</th>\n",
       "      <th>numVotes</th>\n",
       "    </tr>\n",
       "  </thead>\n",
       "  <tbody>\n",
       "    <tr>\n",
       "      <th>17961</th>\n",
       "      <td>tt0035423</td>\n",
       "      <td>6.4</td>\n",
       "      <td>87153</td>\n",
       "    </tr>\n",
       "    <tr>\n",
       "      <th>40764</th>\n",
       "      <td>tt0062336</td>\n",
       "      <td>6.4</td>\n",
       "      <td>175</td>\n",
       "    </tr>\n",
       "    <tr>\n",
       "      <th>46645</th>\n",
       "      <td>tt0069049</td>\n",
       "      <td>6.7</td>\n",
       "      <td>7754</td>\n",
       "    </tr>\n",
       "    <tr>\n",
       "      <th>63640</th>\n",
       "      <td>tt0088751</td>\n",
       "      <td>5.2</td>\n",
       "      <td>336</td>\n",
       "    </tr>\n",
       "    <tr>\n",
       "      <th>69953</th>\n",
       "      <td>tt0096056</td>\n",
       "      <td>5.6</td>\n",
       "      <td>846</td>\n",
       "    </tr>\n",
       "    <tr>\n",
       "      <th>...</th>\n",
       "      <td>...</td>\n",
       "      <td>...</td>\n",
       "      <td>...</td>\n",
       "    </tr>\n",
       "    <tr>\n",
       "      <th>1331411</th>\n",
       "      <td>tt9914942</td>\n",
       "      <td>6.6</td>\n",
       "      <td>178</td>\n",
       "    </tr>\n",
       "    <tr>\n",
       "      <th>1331437</th>\n",
       "      <td>tt9915872</td>\n",
       "      <td>6.4</td>\n",
       "      <td>9</td>\n",
       "    </tr>\n",
       "    <tr>\n",
       "      <th>1331450</th>\n",
       "      <td>tt9916170</td>\n",
       "      <td>7.0</td>\n",
       "      <td>7</td>\n",
       "    </tr>\n",
       "    <tr>\n",
       "      <th>1331451</th>\n",
       "      <td>tt9916190</td>\n",
       "      <td>3.7</td>\n",
       "      <td>243</td>\n",
       "    </tr>\n",
       "    <tr>\n",
       "      <th>1331462</th>\n",
       "      <td>tt9916362</td>\n",
       "      <td>6.4</td>\n",
       "      <td>5422</td>\n",
       "    </tr>\n",
       "  </tbody>\n",
       "</table>\n",
       "<p>71900 rows × 3 columns</p>\n",
       "</div>"
      ],
      "text/plain": [
       "            tconst  averageRating  numVotes\n",
       "17961    tt0035423            6.4     87153\n",
       "40764    tt0062336            6.4       175\n",
       "46645    tt0069049            6.7      7754\n",
       "63640    tt0088751            5.2       336\n",
       "69953    tt0096056            5.6       846\n",
       "...            ...            ...       ...\n",
       "1331411  tt9914942            6.6       178\n",
       "1331437  tt9915872            6.4         9\n",
       "1331450  tt9916170            7.0         7\n",
       "1331451  tt9916190            3.7       243\n",
       "1331462  tt9916362            6.4      5422\n",
       "\n",
       "[71900 rows x 3 columns]"
      ]
     },
     "execution_count": 164,
     "metadata": {},
     "output_type": "execute_result"
    }
   ],
   "source": [
    "# Filter ratings dataframe\n",
    "filter_basics = ratings['tconst'].isin(df['tconst'])\n",
    "ratings = ratings[filter_basics]\n",
    "ratings"
   ]
  },
  {
   "cell_type": "code",
   "execution_count": 166,
   "id": "83912712-bc3b-4e21-99fe-7bb79f148c06",
   "metadata": {},
   "outputs": [],
   "source": [
    "# Convert placeholder \"\\N\" values back to true null values\n",
    "ratings = ratings.replace({'\\\\N':np.nan})"
   ]
  },
  {
   "cell_type": "code",
   "execution_count": 170,
   "id": "cd417641-d28f-4431-8cca-812f79d10c47",
   "metadata": {},
   "outputs": [],
   "source": [
    "# Save file path to folder with new file name at the end\n",
    "fname_out2 = \"Data/filtered_ratings.csv\"\n",
    "ratings.to_csv(fname_out2, index=False)"
   ]
  }
 ],
 "metadata": {
  "kernelspec": {
   "display_name": "Python 3 (ipykernel)",
   "language": "python",
   "name": "python3"
  },
  "language_info": {
   "codemirror_mode": {
    "name": "ipython",
    "version": 3
   },
   "file_extension": ".py",
   "mimetype": "text/x-python",
   "name": "python",
   "nbconvert_exporter": "python",
   "pygments_lexer": "ipython3",
   "version": "3.10.10"
  },
  "widgets": {
   "application/vnd.jupyter.widget-state+json": {
    "state": {},
    "version_major": 2,
    "version_minor": 0
   }
  }
 },
 "nbformat": 4,
 "nbformat_minor": 5
}
